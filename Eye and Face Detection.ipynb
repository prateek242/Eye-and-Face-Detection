{
 "cells": [
  {
   "cell_type": "code",
   "execution_count": null,
   "metadata": {},
   "outputs": [],
   "source": [
    "import cv2\n",
    "cap = cv2.VideoCapture(0)\n",
    "eye_model = cv2.CascadeClassifier(\"haarcascade_eye.xml\")\n",
    "face_model = cv2.CascadeClassifier(\"haarcascade_frontalface_default.xml\")"
   ]
  },
  {
   "cell_type": "code",
   "execution_count": null,
   "metadata": {},
   "outputs": [],
   "source": [
    "while True: \n",
    "    status , photo = cap.read()\n",
    "    eye_cor = eye_model.detectMultiScale(photo)\n",
    "    \n",
    "    face_cor = face_model.detectMultiScale(photo)\n",
    "\n",
    "    if len(eye_cor) == 0:\n",
    "        pass\n",
    "    else:\n",
    "        x1 = eye_cor[0][0]\n",
    "        y1 = eye_cor[0][1]\n",
    "        x2 = x1 + eye_cor[0][2]\n",
    "        y2 = y1 + eye_cor[0][3]\n",
    "        \n",
    "        a1 = face_cor[0][0]\n",
    "        b1 = face_cor[0][1]\n",
    "        a2 = a1 + face_cor[0][2]\n",
    "        b2 = b1 + face_cor[0][3]\n",
    "    \n",
    "        photo = cv2.rectangle(photo,(x1,y1),(x2,y2),[0,255,0],2)\n",
    "        photo = cv2.rectangle(photo,(a1,b1),(a2,b2),[0,255,0],2)\n",
    "        cv2.imshow(\"Eye and Face Detection\",photo)\n",
    "        if cv2.waitKey(1) == 13:\n",
    "            break\n",
    "\n",
    "cv2.destroyAllWindows()\n"
   ]
  },
  {
   "cell_type": "code",
   "execution_count": null,
   "metadata": {},
   "outputs": [],
   "source": [
    "cap.release()"
   ]
  },
  {
   "cell_type": "code",
   "execution_count": null,
   "metadata": {},
   "outputs": [],
   "source": []
  }
 ],
 "metadata": {
  "kernelspec": {
   "display_name": "Python 3",
   "language": "python",
   "name": "python3"
  },
  "language_info": {
   "codemirror_mode": {
    "name": "ipython",
    "version": 3
   },
   "file_extension": ".py",
   "mimetype": "text/x-python",
   "name": "python",
   "nbconvert_exporter": "python",
   "pygments_lexer": "ipython3",
   "version": "3.7.3"
  }
 },
 "nbformat": 4,
 "nbformat_minor": 2
}
